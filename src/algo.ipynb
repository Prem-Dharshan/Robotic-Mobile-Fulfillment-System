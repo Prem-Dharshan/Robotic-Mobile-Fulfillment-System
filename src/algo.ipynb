{
 "cells": [
  {
   "cell_type": "markdown",
   "metadata": {},
   "source": [
    "### Import required Libraries"
   ]
  },
  {
   "cell_type": "code",
   "execution_count": 16,
   "metadata": {},
   "outputs": [],
   "source": [
    "import numpy as np\n",
    "import pandas as pd\n",
    "import matplotlib.pyplot as plt\n",
    "import random\n",
    "import gym\n",
    "import deap\n",
    "from stable_baselines3 import PPO"
   ]
  },
  {
   "cell_type": "markdown",
   "metadata": {},
   "source": [
    "### 1. Create Sample Shelves Dataset"
   ]
  },
  {
   "cell_type": "code",
   "execution_count": 17,
   "metadata": {},
   "outputs": [],
   "source": [
    "# Sample shelves dataset (20 shelves with random coordinates)\n",
    "shelves_data = {\n",
    "    'Shelf_ID': [f'S{i+1}' for i in range(20)],\n",
    "    'Location_X': np.random.randint(0, 100, size=20),\n",
    "    'Location_Y': np.random.randint(0, 100, size=20),\n",
    "    'Total_Items': np.random.randint(10, 30, size=20),\n",
    "}"
   ]
  },
  {
   "cell_type": "code",
   "execution_count": 18,
   "metadata": {},
   "outputs": [
    {
     "name": "stdout",
     "output_type": "stream",
     "text": [
      "   Shelf_ID  Location_X  Location_Y  Total_Items\n",
      "0        S1          37          90           14\n",
      "1        S2          43          21           29\n",
      "2        S3          42          50           28\n",
      "3        S4          85          30           18\n",
      "4        S5          81          62           10\n",
      "5        S6          45          25           27\n",
      "6        S7          64          30           14\n",
      "7        S8          59          88           24\n",
      "8        S9          61          68           13\n",
      "9       S10           6          15           18\n",
      "10      S11           1          27           16\n",
      "11      S12          67          96           14\n",
      "12      S13          50          45           19\n",
      "13      S14          76          14           29\n",
      "14      S15          42          77           27\n",
      "15      S16          70           8           13\n",
      "16      S17          74          40           12\n",
      "17      S18           5           2           23\n",
      "18      S19          29          28           24\n",
      "19      S20          44          42           14\n"
     ]
    }
   ],
   "source": [
    "# Create DataFrame\n",
    "shelves_df = pd.DataFrame(shelves_data)\n",
    "\n",
    "# Print shelves DataFrame\n",
    "print(shelves_df)"
   ]
  },
  {
   "cell_type": "markdown",
   "metadata": {},
   "source": [
    "### 2. Create a NumPy array for shelf locations"
   ]
  },
  {
   "cell_type": "code",
   "execution_count": 19,
   "metadata": {},
   "outputs": [],
   "source": [
    "shelves_locations = shelves_df[['Location_X', 'Location_Y']].to_numpy()"
   ]
  },
  {
   "cell_type": "markdown",
   "metadata": {},
   "source": [
    "### 3. Define the Distance Matrix Function"
   ]
  },
  {
   "cell_type": "code",
   "execution_count": 20,
   "metadata": {},
   "outputs": [],
   "source": [
    "def shelf_distance(s1, s2):\n",
    "    if not (0 <= s1 < len(shelves_locations)) or not (0 <= s2 < len(shelves_locations)):\n",
    "        raise IndexError(f\"Invalid index: s1={s1}, s2={s2} for shelves_locations with size {len(shelves_locations)}\")\n",
    "\n",
    "    return np.linalg.norm(shelves_locations[s1] - shelves_locations[s2])"
   ]
  },
  {
   "cell_type": "code",
   "execution_count": 21,
   "metadata": {},
   "outputs": [
    {
     "name": "stdout",
     "output_type": "stream",
     "text": [
      "Distance Matrix:\n",
      " [[  0.          69.26037828  40.31128874  76.83749085  52.15361924\n",
      "   65.49045732  65.7951366   22.09072203  32.55764119  81.15417426\n",
      "   72.56031973  30.59411708  46.84015371  85.42247948  13.92838828\n",
      "   88.39117603  62.20128616  93.63759929  62.51399843  48.50773134]\n",
      " [ 69.26037828   0.          29.01723626  42.95346319  55.90169944\n",
      "    4.47213595  22.84731932  68.8839604   50.32891813  37.48332963\n",
      "   42.42640687  78.74642849  25.          33.73425559  56.00892786\n",
      "   29.96664813  36.35931793  42.48529157  15.65247584  21.02379604]\n",
      " [ 40.31128874  29.01723626   0.          47.42362281  40.80441153\n",
      "   25.17935662  29.73213749  41.62931659  26.17250466  50.20956084\n",
      "   47.01063709  52.35456045   9.43398113  49.51767361  27.\n",
      "   50.47771786  33.52610923  60.6052803   25.55386468   8.24621125]\n",
      " [ 76.83749085  42.95346319  47.42362281   0.          32.24903099\n",
      "   40.31128874  21.          63.56099433  44.94441011  80.41144197\n",
      "   84.05355436  68.41052551  38.07886553  18.35755975  63.70243323\n",
      "   26.62705391  14.86606875  84.7584804   56.0357029   42.72001873]\n",
      " [ 52.15361924  55.90169944  40.80441153  32.24903099   0.\n",
      "   51.623638    36.23534186  34.05877273  20.88061302  88.50988645\n",
      "   87.32124598  36.76955262  35.35533906  48.25971405  41.78516483\n",
      "   55.10898293  23.08679276  96.8297475   62.12889827  42.05948169]\n",
      " [ 65.49045732   4.47213595  25.17935662  40.31128874  51.623638\n",
      "    0.          19.6468827   64.5368112   45.88027899  40.26164428\n",
      "   44.04543109  74.33034374  20.61552813  32.89376841  52.08646657\n",
      "   30.23243292  32.64965543  46.14108798  16.2788206   17.02938637]\n",
      " [ 65.7951366   22.84731932  29.73213749  21.          36.23534186\n",
      "   19.6468827    0.          58.21511831  38.11823711  59.9082632\n",
      "   63.07138812  66.06814664  20.51828453  20.          51.89412298\n",
      "   22.8035085   14.14213562  65.30696747  35.05709629  23.32380758]\n",
      " [ 22.09072203  68.8839604   41.62931659  63.56099433  34.05877273\n",
      "   64.5368112   58.21511831   0.          20.09975124  90.21086409\n",
      "   84.17244205  11.3137085   43.93176527  75.92759709  20.24845673\n",
      "   80.75270893  50.28916384 101.5480182   67.08203932  48.38388161]\n",
      " [ 32.55764119  50.32891813  26.17250466  44.94441011  20.88061302\n",
      "   45.88027899  38.11823711  20.09975124   0.          76.38062582\n",
      "   72.6704892   28.63564213  25.49509757  56.04462508  21.02379604\n",
      "   60.67124525  30.87069808  86.55634003  51.2249939   31.06444913]\n",
      " [ 81.15417426  37.48332963  50.20956084  80.41144197  88.50988645\n",
      "   40.26164428  59.9082632   90.21086409  76.38062582   0.\n",
      "   13.         101.40019724  53.25410782  70.00714249  71.69379332\n",
      "   64.38167441  72.44998275  13.03840481  26.41968963  46.61544808]\n",
      " [ 72.56031973  42.42640687  47.01063709  84.05355436  87.32124598\n",
      "   44.04543109  63.07138812  84.17244205  72.6704892   13.\n",
      "    0.          95.48298278  52.20153254  76.11832894  64.66065264\n",
      "   71.56814934  74.14849965  25.3179778   28.01785145  45.54119015]\n",
      " [ 30.59411708  78.74642849  52.35456045  68.41052551  36.76955262\n",
      "   74.33034374  66.06814664  11.3137085   28.63564213 101.40019724\n",
      "   95.48298278   0.          53.75872022  82.49242389  31.40063694\n",
      "   88.05112151  56.43580424 112.60550608  77.89736838  58.69412236]\n",
      " [ 46.84015371  25.           9.43398113  38.07886553  35.35533906\n",
      "   20.61552813  20.51828453  43.93176527  25.49509757  53.25410782\n",
      "   52.20153254  53.75872022   0.          40.45985665  32.984845\n",
      "   42.05948169  24.51530134  62.24146528  27.01851217   6.70820393]\n",
      " [ 85.42247948  33.73425559  49.51767361  18.35755975  48.25971405\n",
      "   32.89376841  20.          75.92759709  56.04462508  70.00714249\n",
      "   76.11832894  82.49242389  40.45985665   0.          71.58910532\n",
      "    8.48528137  26.07680962  72.00694411  49.04079934  42.52058325]\n",
      " [ 13.92838828  56.00892786  27.          63.70243323  41.78516483\n",
      "   52.08646657  51.89412298  20.24845673  21.02379604  71.69379332\n",
      "   64.66065264  31.40063694  32.984845    71.58910532   0.\n",
      "   74.46475676  48.91829923  83.63013811  50.69516742  35.05709629]\n",
      " [ 88.39117603  29.96664813  50.47771786  26.62705391  55.10898293\n",
      "   30.23243292  22.8035085   80.75270893  60.67124525  64.38167441\n",
      "   71.56814934  88.05112151  42.05948169   8.48528137  74.46475676\n",
      "    0.          32.24903099  65.27633568  45.61797891  42.80186912]\n",
      " [ 62.20128616  36.35931793  33.52610923  14.86606875  23.08679276\n",
      "   32.64965543  14.14213562  50.28916384  30.87069808  72.44998275\n",
      "   74.14849965  56.43580424  24.51530134  26.07680962  48.91829923\n",
      "   32.24903099   0.          78.77182237  46.57252409  30.06659276]\n",
      " [ 93.63759929  42.48529157  60.6052803   84.7584804   96.8297475\n",
      "   46.14108798  65.30696747 101.5480182   86.55634003  13.03840481\n",
      "   25.3179778  112.60550608  62.24146528  72.00694411  83.63013811\n",
      "   65.27633568  78.77182237   0.          35.38361203  55.86591089]\n",
      " [ 62.51399843  15.65247584  25.55386468  56.0357029   62.12889827\n",
      "   16.2788206   35.05709629  67.08203932  51.2249939   26.41968963\n",
      "   28.01785145  77.89736838  27.01851217  49.04079934  50.69516742\n",
      "   45.61797891  46.57252409  35.38361203   0.          20.51828453]\n",
      " [ 48.50773134  21.02379604   8.24621125  42.72001873  42.05948169\n",
      "   17.02938637  23.32380758  48.38388161  31.06444913  46.61544808\n",
      "   45.54119015  58.69412236   6.70820393  42.52058325  35.05709629\n",
      "   42.80186912  30.06659276  55.86591089  20.51828453   0.        ]]\n"
     ]
    }
   ],
   "source": [
    "# Create a distance matrix\n",
    "num_shelves = len(shelves_locations)\n",
    "distance_matrix = np.zeros((num_shelves, num_shelves))\n",
    "\n",
    "for i in range(num_shelves):\n",
    "    for j in range(num_shelves):\n",
    "        distance_matrix[i][j] = shelf_distance(i, j)\n",
    "\n",
    "# Print distance matrix\n",
    "print(\"Distance Matrix:\\n\", distance_matrix)"
   ]
  },
  {
   "cell_type": "markdown",
   "metadata": {},
   "source": [
    "### 4. Implement the Ant Colony Optimization Class"
   ]
  },
  {
   "cell_type": "code",
   "execution_count": 22,
   "metadata": {},
   "outputs": [],
   "source": [
    "class AntColony:\n",
    "    def __init__(self, distance_matrix, n_ants, n_best, n_iterations, decay, alpha=1, beta=1):\n",
    "        self.distances = distance_matrix\n",
    "        self.pheromone = np.ones(self.distances.shape) / len(distance_matrix)\n",
    "        self.all_inds = range(len(distance_matrix))\n",
    "        self.n_ants = n_ants\n",
    "        self.n_best = n_best\n",
    "        self.n_iterations = n_iterations\n",
    "        self.decay = decay\n",
    "        self.alpha = alpha\n",
    "        self.beta = beta\n",
    "\n",
    "    def run(self):\n",
    "        all_time_shortest_path = (\"placeholder\", np.inf)\n",
    "        for _ in range(self.n_iterations):\n",
    "            all_paths = self.gen_all_paths()\n",
    "            self.spread_pheromone(all_paths, self.n_best)\n",
    "            shortest_path = min(all_paths, key=lambda x: x[1])  # x[1] is the distance\n",
    "            if shortest_path[1] < all_time_shortest_path[1]:\n",
    "                all_time_shortest_path = shortest_path\n",
    "            self.pheromone *= self.decay  # Apply decay\n",
    "        return all_time_shortest_path\n",
    "\n",
    "    def spread_pheromone(self, all_paths, n_best):\n",
    "        sorted_paths = sorted(all_paths, key=lambda x: x[1])  # Sort based on distance\n",
    "        for path, dist in sorted_paths[:n_best]:  # Take n_best paths\n",
    "            for move in path:\n",
    "                self.pheromone[move] += 1.0 / self.distances[move]\n",
    "\n",
    "    def gen_path_dist(self, path):\n",
    "        total_dist = 0\n",
    "        for i in range(len(path) - 1):\n",
    "            total_dist += self.distances[path[i]][path[i + 1]]  # Compute distance from current to next\n",
    "        return total_dist\n",
    "\n",
    "    def gen_all_paths(self):\n",
    "        all_paths = []\n",
    "        for _ in range(self.n_ants):\n",
    "            path = self.gen_path(0)  # Start at shelf 0\n",
    "            path_distance = self.gen_path_dist(path)\n",
    "            all_paths.append((path, path_distance))  # Append path and its distance\n",
    "        return all_paths\n",
    "\n",
    "    def gen_path(self, start):\n",
    "        path = []\n",
    "        visited = set()\n",
    "        visited.add(start)\n",
    "        prev = start\n",
    "        for _ in range(len(self.distances) - 1):\n",
    "            move = self.pick_move(self.pheromone[prev], self.distances[prev], visited)\n",
    "            path.append(move)\n",
    "            prev = move\n",
    "            visited.add(move)\n",
    "        path.append(start)  # Returning to start\n",
    "        return path\n",
    "\n",
    "    def pick_move(self, pheromone, dist, visited):\n",
    "        pheromone = np.copy(pheromone)\n",
    "        pheromone[list(visited)] = 0  # Block visited nodes\n",
    "\n",
    "        # Avoid division by zero\n",
    "        dist = np.where(dist == 0, np.inf, dist)\n",
    "\n",
    "        row = pheromone ** self.alpha * ((1.0 / dist) ** self.beta)\n",
    "\n",
    "        if np.sum(row) == 0:\n",
    "            return np.random.choice(list(set(self.all_inds) - visited))\n",
    "\n",
    "        norm_row = row / row.sum()\n",
    "        move = np.random.choice(list(self.all_inds), p=norm_row)\n",
    "        return move"
   ]
  },
  {
   "cell_type": "markdown",
   "metadata": {},
   "source": [
    "### 5. Initialize and Run the Ant Colony Optimization"
   ]
  },
  {
   "cell_type": "code",
   "execution_count": 23,
   "metadata": {},
   "outputs": [
    {
     "name": "stderr",
     "output_type": "stream",
     "text": [
      "C:\\Users\\premd\\AppData\\Local\\Temp\\ipykernel_29000\\3754780180.py:28: RuntimeWarning: divide by zero encountered in divide\n",
      "  self.pheromone[move] += 1.0 / self.distances[move]\n"
     ]
    },
    {
     "name": "stdout",
     "output_type": "stream",
     "text": [
      "Best shelf route: ([np.int64(11), np.int64(7), np.int64(4), np.int64(8), np.int64(19), np.int64(2), np.int64(12), np.int64(16), np.int64(6), np.int64(3), np.int64(13), np.int64(15), np.int64(1), np.int64(18), np.int64(5), np.int64(10), np.int64(9), np.int64(17), np.int64(14), 0], np.float64(431.0383207119285))\n"
     ]
    }
   ],
   "source": [
    "aco = AntColony(distance_matrix, n_ants=5, n_best=2, n_iterations=100, decay=0.95)\n",
    "best_shelf_route = aco.run()\n",
    "\n",
    "print(\"Best shelf route:\", best_shelf_route)"
   ]
  },
  {
   "cell_type": "markdown",
   "metadata": {},
   "source": [
    "### 6. Create the Gym Environment for Reinforcement Learning"
   ]
  },
  {
   "cell_type": "code",
   "execution_count": 24,
   "metadata": {},
   "outputs": [],
   "source": [
    "class WarehouseEnv(gym.Env):\n",
    "    def __init__(self):\n",
    "        super(WarehouseEnv, self).__init__()\n",
    "        # Define action and observation space\n",
    "        self.action_space = gym.spaces.Discrete(num_shelves)  # Pick a shelf\n",
    "        self.observation_space = gym.spaces.Box(low=0, high=100, shape=(2,), dtype=np.float32)\n",
    "\n",
    "    def reset(self):\n",
    "        self.state = np.zeros(2)  # Reset warehouse state to start position\n",
    "        return self.state\n",
    "\n",
    "    def step(self, action):\n",
    "        # Reward based on distance to shelves\n",
    "        distance_to_shelf = shelf_distance(int(self.state[0]), action)  # Get distance\n",
    "        reward = -distance_to_shelf  # Penalize distance\n",
    "        self.state[0] = action  # Update the current shelf\n",
    "        done = False  # Indicate whether the episode is done\n",
    "        return self.state, reward, done, {}"
   ]
  },
  {
   "cell_type": "code",
   "execution_count": 25,
   "metadata": {},
   "outputs": [],
   "source": [
    "# Create environment\n",
    "env = WarehouseEnv()"
   ]
  },
  {
   "cell_type": "markdown",
   "metadata": {},
   "source": [
    "### 7. Train the RL Model"
   ]
  },
  {
   "cell_type": "code",
   "execution_count": 26,
   "metadata": {},
   "outputs": [
    {
     "name": "stdout",
     "output_type": "stream",
     "text": [
      "Using cpu device\n",
      "Wrapping the env with a `Monitor` wrapper\n",
      "Wrapping the env in a DummyVecEnv.\n"
     ]
    },
    {
     "name": "stderr",
     "output_type": "stream",
     "text": [
      "d:\\Academics\\20XW58\\Robotic-Mobile-Fulfillment-System\\venv\\Lib\\site-packages\\stable_baselines3\\common\\vec_env\\patch_gym.py:49: UserWarning: You provided an OpenAI Gym environment. We strongly recommend transitioning to Gymnasium environments. Stable-Baselines3 is automatically wrapping your environments in a compatibility layer, which could potentially cause issues.\n",
      "  warnings.warn(\n"
     ]
    },
    {
     "name": "stdout",
     "output_type": "stream",
     "text": [
      "-----------------------------\n",
      "| time/              |      |\n",
      "|    fps             | 1124 |\n",
      "|    iterations      | 1    |\n",
      "|    time_elapsed    | 1    |\n",
      "|    total_timesteps | 2048 |\n",
      "-----------------------------\n",
      "-------------------------------------------\n",
      "| time/                   |               |\n",
      "|    fps                  | 665           |\n",
      "|    iterations           | 2             |\n",
      "|    time_elapsed         | 6             |\n",
      "|    total_timesteps      | 4096          |\n",
      "| train/                  |               |\n",
      "|    approx_kl            | 0.008889812   |\n",
      "|    clip_fraction        | 0.0361        |\n",
      "|    clip_range           | 0.2           |\n",
      "|    entropy_loss         | -2.99         |\n",
      "|    explained_variance   | 2.4795532e-05 |\n",
      "|    learning_rate        | 0.0003        |\n",
      "|    loss                 | 2.96e+05      |\n",
      "|    n_updates            | 10            |\n",
      "|    policy_gradient_loss | -0.0149       |\n",
      "|    value_loss           | 5.95e+05      |\n",
      "-------------------------------------------\n",
      "-------------------------------------------\n",
      "| time/                   |               |\n",
      "|    fps                  | 564           |\n",
      "|    iterations           | 3             |\n",
      "|    time_elapsed         | 10            |\n",
      "|    total_timesteps      | 6144          |\n",
      "| train/                  |               |\n",
      "|    approx_kl            | 0.010695763   |\n",
      "|    clip_fraction        | 0.055         |\n",
      "|    clip_range           | 0.2           |\n",
      "|    entropy_loss         | -2.97         |\n",
      "|    explained_variance   | -0.0004146099 |\n",
      "|    learning_rate        | 0.0003        |\n",
      "|    loss                 | 2.67e+05      |\n",
      "|    n_updates            | 20            |\n",
      "|    policy_gradient_loss | -0.0193       |\n",
      "|    value_loss           | 5.31e+05      |\n",
      "-------------------------------------------\n",
      "-------------------------------------------\n",
      "| time/                   |               |\n",
      "|    fps                  | 514           |\n",
      "|    iterations           | 4             |\n",
      "|    time_elapsed         | 15            |\n",
      "|    total_timesteps      | 8192          |\n",
      "| train/                  |               |\n",
      "|    approx_kl            | 0.0110847885  |\n",
      "|    clip_fraction        | 0.0555        |\n",
      "|    clip_range           | 0.2           |\n",
      "|    entropy_loss         | -2.94         |\n",
      "|    explained_variance   | -0.0011612177 |\n",
      "|    learning_rate        | 0.0003        |\n",
      "|    loss                 | 2.3e+05       |\n",
      "|    n_updates            | 30            |\n",
      "|    policy_gradient_loss | -0.0183       |\n",
      "|    value_loss           | 4.63e+05      |\n",
      "-------------------------------------------\n",
      "-------------------------------------------\n",
      "| time/                   |               |\n",
      "|    fps                  | 483           |\n",
      "|    iterations           | 5             |\n",
      "|    time_elapsed         | 21            |\n",
      "|    total_timesteps      | 10240         |\n",
      "| train/                  |               |\n",
      "|    approx_kl            | 0.010615311   |\n",
      "|    clip_fraction        | 0.102         |\n",
      "|    clip_range           | 0.2           |\n",
      "|    entropy_loss         | -2.88         |\n",
      "|    explained_variance   | -0.0009787083 |\n",
      "|    learning_rate        | 0.0003        |\n",
      "|    loss                 | 2.07e+05      |\n",
      "|    n_updates            | 40            |\n",
      "|    policy_gradient_loss | -0.0216       |\n",
      "|    value_loss           | 4.21e+05      |\n",
      "-------------------------------------------\n"
     ]
    },
    {
     "data": {
      "text/plain": [
       "<stable_baselines3.ppo.ppo.PPO at 0x28c54ac7200>"
      ]
     },
     "execution_count": 26,
     "metadata": {},
     "output_type": "execute_result"
    }
   ],
   "source": [
    "# Create PPO model\n",
    "model = PPO(\"MlpPolicy\", env, verbose=1)\n",
    "model.learn(total_timesteps=10000)"
   ]
  },
  {
   "cell_type": "markdown",
   "metadata": {},
   "source": [
    "### 8. Test the trained model"
   ]
  },
  {
   "cell_type": "code",
   "execution_count": 27,
   "metadata": {},
   "outputs": [],
   "source": [
    "obs = env.reset()\n",
    "for step in range(100):\n",
    "    action, _states = model.predict(obs)\n",
    "    obs, rewards, done, info = env.step(action)\n",
    "    if done:\n",
    "        break"
   ]
  },
  {
   "cell_type": "markdown",
   "metadata": {},
   "source": [
    "### 9. Visualize best shelf route"
   ]
  },
  {
   "cell_type": "code",
   "execution_count": 28,
   "metadata": {},
   "outputs": [
    {
     "data": {
      "image/png": "[encoded data removed]",
      "text/plain": [
       "<Figure size 800x600 with 1 Axes>"
      ]
     },
     "metadata": {},
     "output_type": "display_data"
    }
   ],
   "source": [
    "plt.figure(figsize=(8, 6))\n",
    "for i in range(len(best_shelf_route[0]) - 1):\n",
    "    x1, y1 = shelves_locations[best_shelf_route[0][i]]\n",
    "    x2, y2 = shelves_locations[best_shelf_route[0][i + 1]]\n",
    "    plt.plot([x1, x2], [y1, y2], 'bo-')\n",
    "plt.title('Optimized Shelf Route')\n",
    "plt.show()"
   ]
  },
  {
   "cell_type": "markdown",
   "metadata": {},
   "source": [
    "### 10. Plot robot task completion time"
   ]
  },
  {
   "cell_type": "code",
   "execution_count": 29,
   "metadata": {},
   "outputs": [
    {
     "data": {
      "image/png": "[encoded data removed]",
      "text/plain": [
       "<Figure size 640x480 with 1 Axes>"
      ]
     },
     "metadata": {},
     "output_type": "display_data"
    }
   ],
   "source": [
    "plt.bar(range(len(best_shelf_route[0]) - 1),\n",
    "        [shelf_distance(best_shelf_route[0][i], best_shelf_route[0][i + 1]) for i in range(len(best_shelf_route[0]) - 1)])\n",
    "plt.title('Task Completion Times (Robot Scheduling)')\n",
    "plt.xlabel('Task Index')\n",
    "plt.ylabel('Distance')\n",
    "plt.show()"
   ]
  }
 ],
 "metadata": {
  "kernelspec": {
   "display_name": "venv",
   "language": "python",
   "name": "python3"
  },
  "language_info": {
   "codemirror_mode": {
    "name": "ipython",
    "version": 3
   },
   "file_extension": ".py",
   "mimetype": "text/x-python",
   "name": "python",
   "nbconvert_exporter": "python",
   "pygments_lexer": "ipython3",
   "version": "3.12.4"
  }
 },
 "nbformat": 4,
 "nbformat_minor": 2
}
