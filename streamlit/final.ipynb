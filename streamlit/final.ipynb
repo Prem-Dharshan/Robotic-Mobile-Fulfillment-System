{
 "cells": [
  {
   "cell_type": "code",
   "execution_count": 1,
   "metadata": {},
   "outputs": [],
   "source": [
    "import streamlit as st\n",
    "import numpy as np\n",
    "import pandas as pd\n",
    "import matplotlib.pyplot as plt\n",
    "import random\n",
    "import networkx as nx\n",
    "\n",
    "# General libraries\n",
    "# Reinforcement Learning libraries\n",
    "import gym\n",
    "from stable_baselines3 import PPO  # DRL model\n",
    "\n",
    "# ACopy for Ant Colony Optimization\n",
    "import acopy\n",
    "from acopy.solvers import Solver\n",
    "from acopy.ant import Colony\n",
    "\n",
    "# Load datasets\n",
    "orders_df = pd.read_csv('./orders.csv')\n",
    "shelves_df = pd.read_csv('./shelves.csv')\n",
    "robots_df = pd.read_csv('./robots.csv')"
   ]
  },
  {
   "cell_type": "code",
   "execution_count": 2,
   "metadata": {},
   "outputs": [
    {
     "name": "stdout",
     "output_type": "stream",
     "text": [
      "   Order_ID  Number_of_Items  Product_ID        Date\n",
      "0      1001                5        2001  2024-10-01\n",
      "1      1002                3        2002  2024-10-02\n",
      "2      1003                7        2003  2024-10-03\n",
      "3      1004                2        2004  2024-10-04\n",
      "4      1005                6        2005  2024-10-05\n"
     ]
    }
   ],
   "source": [
    "print(orders_df.head())"
   ]
  }
 ],
 "metadata": {
  "kernelspec": {
   "display_name": "venv",
   "language": "python",
   "name": "python3"
  },
  "language_info": {
   "codemirror_mode": {
    "name": "ipython",
    "version": 3
   },
   "file_extension": ".py",
   "mimetype": "text/x-python",
   "name": "python",
   "nbconvert_exporter": "python",
   "pygments_lexer": "ipython3",
   "version": "3.12.4"
  }
 },
 "nbformat": 4,
 "nbformat_minor": 2
}
